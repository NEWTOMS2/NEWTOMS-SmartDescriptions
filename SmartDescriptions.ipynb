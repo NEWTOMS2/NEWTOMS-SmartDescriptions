{
 "cells": [
  {
   "attachments": {},
   "cell_type": "markdown",
   "metadata": {},
   "source": [
    "# Train, tune, and deploy a custom ML model using SmartDescriptions Algorithm from AWS Marketplace \n",
    "\n",
    "\n",
    "SmartDescriptions is a data-to-text solution that allows you to generate text from structured data. With the SmartDescriptions solution you can save time by generating thousands of comprehensible texts automatically.\n",
    "\n",
    "Large companies whose business model is the sale are always faced with the challenge of describing their hundreds of products and services. With this solution you can create products descriptions at the push of a button.\n",
    "\n",
    "You can finetune the SmartDescriptions solution to start generating texts according to your business domain. \n",
    "\n",
    "\n",
    "This sample notebook shows you how to train a custom ML model using [SmartDescriptions](https://aws.amazon.com/marketplace/management/ml-products/a2b91337-b40d-4eb3-a915-53c42f01ccea?) from AWS Marketplace.\n",
    "\n",
    "This Algorithm was developed by adapting and finetuning a HuggingFace model."
   ]
  },
  {
   "cell_type": "markdown",
   "metadata": {},
   "source": [
    "## Pre-requisites\n",
    "1. **Note**: This notebook contains elements which render correctly in Jupyter interface. Open this notebook from an Amazon SageMaker Notebook Instance or Amazon SageMaker Studio.\n",
    "1. Ensure that IAM role used has **AmazonSageMakerFullAccess**\n",
    "1. Some hands-on experience using [Amazon SageMaker](https://aws.amazon.com/sagemaker/).\n",
    "1. To use this algorithm successfully, ensure that:\n",
    "    1. Either your IAM role has these three permissions and you have authority to make AWS Marketplace subscriptions in the AWS account used: \n",
    "        1. **aws-marketplace:ViewSubscriptions**\n",
    "        1. **aws-marketplace:Unsubscribe**\n",
    "        1. **aws-marketplace:Subscribe**  \n",
    "    2. or your AWS account has a subscription to [SmartDescriptions](https://aws.amazon.com/marketplace/management/ml-products/a2b91337-b40d-4eb3-a915-53c42f01ccea?)\n"
   ]
  },
  {
   "cell_type": "markdown",
   "metadata": {},
   "source": [
    "## Contents\n",
    "1. [Subscribe to the algorithm](#1.-Subscribe-to-the-algorithm)\n",
    "1. [Prepare dataset](#2.-Prepare-dataset)\n",
    "\t1. [Dataset format expected by the algorithm](#A.-Dataset-format-expected-by-the-algorithm)\n",
    "\t1. [Configure and visualize train and test dataset](#B.-Configure-and-visualize-train-and-test-dataset)\n",
    "\t1. [Upload datasets to Amazon S3](#C.-Upload-datasets-to-Amazon-S3)\n",
    "1. [Train a machine learning model](#3:-Train-a-machine-learning-model)\n",
    "\t1. [Set up environment](#3.1-Set-up-environment)\n",
    "\t1. [Train a model](#3.2-Train-a-model)\n",
    "1. [Deploy model and verify results](#4:-Deploy-model-and-verify-results)\n",
    "    1. [Deploy trained model](#A.-Deploy-trained-model)\n",
    "    1. [Create input payload](#B.-Create-input-payload)\n",
    "    1. [Perform real-time inference](#C.-Perform-real-time-inference)\n",
    "    1. [Visualize output](#D.-Visualize-output)\n",
    "    1. [Delete the endpoint](#E.-Delete-the-endpoint)\n",
    "1. [Perform Batch inference](#5.-Perform-Batch-inference)\n",
    "1. [Clean-up](#6.-Clean-up)\n",
    "\t1. [Delete the model](#A.-Delete-the-model)\n",
    "\n",
    "\n",
    "## Usage instructions\n",
    "You can run this notebook one cell at a time (By using Shift+Enter for running a cell)."
   ]
  },
  {
   "cell_type": "markdown",
   "metadata": {},
   "source": [
    "## 1. Subscribe to the algorithm"
   ]
  },
  {
   "cell_type": "markdown",
   "metadata": {},
   "source": [
    "To subscribe to the algorithm:\n",
    "1. Open the algorithm listing page [SmartDescriptions](https://aws.amazon.com/marketplace/management/ml-products/a2b91337-b40d-4eb3-a915-53c42f01ccea?)\n",
    "1. On the AWS Marketplace listing,  click on **Continue to subscribe** button.\n",
    "1. On the **Subscribe to this software** page, review and click on **\"Accept Offer\"** if you agree with EULA, pricing, and support terms. \n",
    "1. Once you click on **Continue to configuration button** and then choose a **region**, you will see a **Product Arn**. This is the algorithm ARN that you need to specify while training a custom ML model. Copy the ARN corresponding to your region and specify the same in the following cell."
   ]
  },
  {
   "cell_type": "code",
   "execution_count": 2,
   "metadata": {},
   "outputs": [],
   "source": [
    "algo_arn = \"<AlgorithmARN>\" # Replace this with your algorithm ARN "
   ]
  },
  {
   "cell_type": "markdown",
   "metadata": {},
   "source": [
    "## 2. Prepare dataset"
   ]
  },
  {
   "cell_type": "code",
   "execution_count": 3,
   "metadata": {},
   "outputs": [],
   "source": [
    "import sagemaker as sage\n",
    "import os\n",
    "import json\n",
    "import pandas as pd\n",
    "import boto3\n",
    "from sagemaker import get_execution_role\n",
    "from sagemaker import AlgorithmEstimator"
   ]
  },
  {
   "cell_type": "markdown",
   "metadata": {},
   "source": [
    "### A. Dataset format expected by the algorithm"
   ]
  },
  {
   "cell_type": "markdown",
   "metadata": {},
   "source": [
    "This algorithm requires a **JSON line** file, each line will contain an object with the attributes \"data\" and \"response\" in this respective order. The attribute \"data\" corresponds to your structured data separated by \";\", and the attribute \"response\" corresponds to your desire response from the structured data specified.\n",
    "\n",
    "The JSON line file should look like this:"
   ]
  },
  {
   "cell_type": "code",
   "execution_count": 4,
   "metadata": {},
   "outputs": [
    {
     "data": {
      "text/plain": [
       "{'data': '<name> name = [ Ala Moana Hotel ] ; <address> address = [ 410 Atkinson Drive, Honolulu, HI 96814, USA ] ; <feelsHotel> feelsHotel = [ casual ] ; <hasConventionCenter> hasConventionCenter = [ yes ] ; <hasOnsiteCafe> hasOnsiteCafe = [ yes ] ; <hasCoffeeInRooms> hasCoffeeInRooms = [ yes ] ; <hasMinifridgeInRooms> hasMinifridgeInRooms = [ yes ] ; <hasBalconyInRooms> hasBalconyInRooms = [ yes ] ; <hasMicrowaveInRooms> hasMicrowaveInRooms = [ yes ]',\n",
       " 'response': \"It would be good idea to consider Ala Moana Hotel 410 Atkinson Drive, Honolulu, HI 96814, USA. It's casual, with an onsite cafe and a convention center. This hotel has microwave, mini fridge , coffee in rooms and balcony.\"}"
      ]
     },
     "execution_count": 4,
     "metadata": {},
     "output_type": "execute_result"
    }
   ],
   "source": [
    "{\"data\": \"<name> name = [ 1 Hotel South Beach ] ; <address> address = [ 2341 Collins Ave, Miami Beach, FL 33139, USA ] ; <feelsHotel> feelsHotel = [ luxury ] ; <hasBarOnsite> hasBarOnsite = [ yes ] ; <hasDeskInRooms> hasDeskInRooms = [ yes ] ; <hasBalconyInRooms> hasBalconyInRooms = [ yes ] ; <hasRoomsUpgraded> hasRoomsUpgraded = [ yes ] ; <hasKitchenInRoom> hasKitchenInRoom = [ yes ]\", \"response\": \"A good choice is 1 Hotel South Beach in Miami Beach. It's luxurious, with a bar onsite. The upgraded rooms are full featured, including a kitchen and a desk for work. Each room also has a balcony.\"}\n",
    "{\"data\": \"<name> name = [ Ala Moana Hotel ] ; <address> address = [ 410 Atkinson Drive, Honolulu, HI 96814, USA ] ; <feelsHotel> feelsHotel = [ casual ] ; <hasConventionCenter> hasConventionCenter = [ yes ] ; <hasOnsiteCafe> hasOnsiteCafe = [ yes ] ; <hasCoffeeInRooms> hasCoffeeInRooms = [ yes ] ; <hasMinifridgeInRooms> hasMinifridgeInRooms = [ yes ] ; <hasBalconyInRooms> hasBalconyInRooms = [ yes ] ; <hasMicrowaveInRooms> hasMicrowaveInRooms = [ yes ]\", \"response\": \"It would be good idea to consider Ala Moana Hotel 410 Atkinson Drive, Honolulu, HI 96814, USA. It's casual, with an onsite cafe and a convention center. This hotel has microwave, mini fridge , coffee in rooms and balcony.\"}"
   ]
  },
  {
   "cell_type": "markdown",
   "metadata": {},
   "source": [
    "**Note:** You should name your data file with extension .json"
   ]
  },
  {
   "cell_type": "markdown",
   "metadata": {},
   "source": [
    "You can also find more information about dataset format in **Usage Information** section of [SmartDescriptions](https://aws.amazon.com/marketplace/management/ml-products/a2b91337-b40d-4eb3-a915-53c42f01ccea?)"
   ]
  },
  {
   "cell_type": "markdown",
   "metadata": {},
   "source": [
    "### B. Configure and visualize train and test dataset"
   ]
  },
  {
   "cell_type": "markdown",
   "metadata": {},
   "source": [
    "You must upload the training dataset into data/train directory and update the `training_file_name` parameter value in following cell. **If you intend to download it at run-time, add relevant code in following cell.**"
   ]
  },
  {
   "cell_type": "code",
   "execution_count": 5,
   "metadata": {},
   "outputs": [],
   "source": [
    "training_file_name = \"<FileName.json>\"\n",
    "training_dataset = \"./data/train/{}\".format(training_file_name)"
   ]
  },
  {
   "cell_type": "code",
   "execution_count": null,
   "metadata": {},
   "outputs": [],
   "source": [
    "training_dataset"
   ]
  },
  {
   "cell_type": "code",
   "execution_count": 7,
   "metadata": {},
   "outputs": [],
   "source": [
    "data = []\n",
    "with open(training_dataset) as f:\n",
    "    for line in f:\n",
    "        data.append(json.loads(line))"
   ]
  },
  {
   "cell_type": "code",
   "execution_count": 9,
   "metadata": {},
   "outputs": [
    {
     "data": {
      "text/plain": [
       "[{'data': '<name> name = [ 1 Hotel South Beach ] ; <address> address = [ 2341 Collins Ave, Miami Beach, FL 33139, USA ] ; <feelsHotel> feelsHotel = [ luxury ] ; <hasBarOnsite> hasBarOnsite = [ yes ] ; <hasDeskInRooms> hasDeskInRooms = [ yes ] ; <hasBalconyInRooms> hasBalconyInRooms = [ yes ] ; <hasRoomsUpgraded> hasRoomsUpgraded = [ yes ] ; <hasKitchenInRoom> hasKitchenInRoom = [ yes ]',\n",
       "  'response': \"A good choice is 1 Hotel South Beach in Miami Beach. It's luxurious, with a bar onsite. The upgraded rooms are full featured, including a kitchen and a desk for work. Each room also has a balcony.\"},\n",
       " {'data': '<name> name = [ 1 Hotel South Beach ] ; <address> address = [ 2341 Collins Ave, Miami Beach, FL 33139, USA ] ; <feelsHotel> feelsHotel = [ luxury ] ; <hasBarOnsite> hasBarOnsite = [ yes ] ; <hasDeskInRooms> hasDeskInRooms = [ yes ] ; <hasBalconyInRooms> hasBalconyInRooms = [ yes ] ; <hasRoomsUpgraded> hasRoomsUpgraded = [ yes ] ; <hasKitchenInRoom> hasKitchenInRoom = [ yes ]',\n",
       "  'response': \"I think that 1 Hotel South Beach will meet your needs. It's a luxury hotel with a bar. It features upgraded rooms with a fully equipped kitchen. Each room features a balcony with exquisite beach views. All rooms offer a small office area with a mahogany wood desk and comfortable leather chair.\"},\n",
       " {'data': '<name> name = [ 1 Hotel South Beach ] ; <address> address = [ 2341 Collins Ave, Miami Beach, FL 33139, USA ] ; <feelsHotel> feelsHotel = [ luxury ] ; <hasBarOnsite> hasBarOnsite = [ yes ] ; <hasDeskInRooms> hasDeskInRooms = [ yes ] ; <hasBalconyInRooms> hasBalconyInRooms = [ yes ] ; <hasRoomsUpgraded> hasRoomsUpgraded = [ yes ] ; <hasKitchenInRoom> hasKitchenInRoom = [ yes ]',\n",
       "  'response': \"The 1 Hotel South Beach doesn't mess around. When you come to stay here you won't want to leave. It has luxurious onsite bar. Each upgraded room features a sunny balcony and personal kitchen. You also can expect to find a lovely writing desk for your all correspondence needs.\"}]"
      ]
     },
     "execution_count": 9,
     "metadata": {},
     "output_type": "execute_result"
    }
   ],
   "source": [
    "#Show the training data\n",
    "data[:3]"
   ]
  },
  {
   "cell_type": "markdown",
   "metadata": {},
   "source": [
    "### C. Upload datasets to Amazon S3"
   ]
  },
  {
   "cell_type": "code",
   "execution_count": null,
   "metadata": {},
   "outputs": [],
   "source": [
    "sagemaker_session = sage.Session()\n",
    "bucket = sagemaker_session.default_bucket()\n",
    "bucket"
   ]
  },
  {
   "cell_type": "code",
   "execution_count": null,
   "metadata": {},
   "outputs": [],
   "source": [
    "training_data = sagemaker_session.upload_data(\n",
    "    training_dataset, bucket=bucket, key_prefix=\"smart-descriptions/train\"\n",
    ")\n",
    "training_data"
   ]
  },
  {
   "cell_type": "markdown",
   "metadata": {},
   "source": [
    "## 3: Train a machine learning model"
   ]
  },
  {
   "cell_type": "markdown",
   "metadata": {},
   "source": [
    "Now that dataset is available in an accessible Amazon S3 bucket, we are ready to train a machine learning model. "
   ]
  },
  {
   "cell_type": "markdown",
   "metadata": {},
   "source": [
    "### 3.1 Set up environment"
   ]
  },
  {
   "cell_type": "code",
   "execution_count": null,
   "metadata": {},
   "outputs": [],
   "source": [
    "role = get_execution_role()\n",
    "role"
   ]
  },
  {
   "cell_type": "code",
   "execution_count": 13,
   "metadata": {},
   "outputs": [],
   "source": [
    "output_location = \"s3://{}/smart-descriptions/{}\".format(\n",
    "    bucket, \"output\"\n",
    ")"
   ]
  },
  {
   "cell_type": "markdown",
   "metadata": {},
   "source": [
    "### 3.2 Train a model"
   ]
  },
  {
   "cell_type": "markdown",
   "metadata": {},
   "source": [
    "You can also find more information about dataset format in **Hyperparameters** section of [SmartDescriptions](https://aws.amazon.com/marketplace/management/ml-products/a2b91337-b40d-4eb3-a915-53c42f01ccea?)"
   ]
  },
  {
   "cell_type": "code",
   "execution_count": 14,
   "metadata": {},
   "outputs": [],
   "source": [
    "# Define hyperparameters\n",
    "# These hyperparameters can be set by your requirements, the only hyperparameter that can't be changed is train_file \n",
    "hyperparameters = {\n",
    "    'train_file':'/opt/ml/input/data/train/{}'.format(training_file_name),\n",
    "    'num_train_epochs': 1,\n",
    "    'per_device_train_batch_size': 8,\n",
    "    'per_device_eval_batch_size': 8\n",
    "}"
   ]
  },
  {
   "cell_type": "code",
   "execution_count": null,
   "metadata": {
    "scrolled": true
   },
   "outputs": [],
   "source": [
    "# Create an estimator object for running a training job\n",
    "\n",
    "instance_type= '<InstanceType>' # Replace with your instance type. Supported instances types: ml.m5.large, ml.m5.xlarge, ml.m5.2xlarge, ml.g4dn.xlarge, ml.g4dn.2xlarge\n",
    "\n",
    "estimator = sage.algorithm.AlgorithmEstimator(\n",
    "    algorithm_arn=algo_arn,\n",
    "    base_job_name=\"smart-descriptions-marketplace\",\n",
    "    role=role,\n",
    "    instance_count=1,\n",
    "    instance_type=instance_type,\n",
    "    input_mode=\"File\",\n",
    "    output_path=output_location,\n",
    "    sagemaker_session=sagemaker_session,\n",
    "    hyperparameters=hyperparameters,\n",
    ")\n",
    "# Run the training job.\n",
    "estimator.fit({\"train\": training_data})"
   ]
  },
  {
   "cell_type": "markdown",
   "metadata": {},
   "source": [
    "## 4: Deploy model and verify results"
   ]
  },
  {
   "cell_type": "markdown",
   "metadata": {},
   "source": [
    "Now you can deploy the model for performing real-time inference."
   ]
  },
  {
   "cell_type": "code",
   "execution_count": 16,
   "metadata": {},
   "outputs": [],
   "source": [
    "model_name = \"smart-descriptions\"\n",
    "\n",
    "content_type = \"application/json\"\n",
    "\n",
    "real_time_inference_instance_type = \"<InstanceType>\" # Replace with your instance type. Supported instances types: ml.m5.large, ml.m5.xlarge, ml.m5.2xlarge\n",
    "\n",
    "batch_transform_inference_instance_type = \"<InstanceType>\" # Replace with your instance type. Supported instances types: ml.m5.large, ml.m5.xlarge, ml.m5.2xlarge"
   ]
  },
  {
   "cell_type": "markdown",
   "metadata": {},
   "source": [
    "### A. Deploy trained model"
   ]
  },
  {
   "cell_type": "code",
   "execution_count": 17,
   "metadata": {},
   "outputs": [
    {
     "name": "stdout",
     "output_type": "stream",
     "text": [
      "..........\n",
      "-----------!"
     ]
    }
   ],
   "source": [
    "predictor = estimator.deploy(\n",
    "    1, real_time_inference_instance_type, serializer=sage.serializers.JSONSerializer()\n",
    ")"
   ]
  },
  {
   "cell_type": "markdown",
   "metadata": {},
   "source": [
    "Once endpoint is created, you can perform real-time inference."
   ]
  },
  {
   "cell_type": "markdown",
   "metadata": {},
   "source": [
    "### B. Create input payload"
   ]
  },
  {
   "cell_type": "code",
   "execution_count": 18,
   "metadata": {},
   "outputs": [],
   "source": [
    "input_file = 'input-real-time-inference.txt'\n",
    "input_data = './data/inference/input/real-time/{}'.format(input_file)"
   ]
  },
  {
   "cell_type": "code",
   "execution_count": 19,
   "metadata": {},
   "outputs": [],
   "source": [
    "input_data_endpoint = []\n",
    "with open(input_data) as f:\n",
    "    for line in f:\n",
    "        input_data_endpoint.append(json.loads(line))"
   ]
  },
  {
   "cell_type": "code",
   "execution_count": 20,
   "metadata": {},
   "outputs": [
    {
     "data": {
      "text/plain": [
       "['<name> name = [ 1 Hotel South Beach ] ; <address> address = [ 2341 Collins Ave, Miami Beach, FL 33139, USA ] ; <feelsHotel> feelsHotel = [ luxury ] ; <hasBarOnsite> hasBarOnsite = [ yes ] ; <hasDeskInRooms> hasDeskInRooms = [ yes ] ; <hasBalconyInRooms> hasBalconyInRooms = [ yes ] ; <hasRoomsUpgraded> hasRoomsUpgraded = [ yes ] ; <hasKitchenInRoom> hasKitchenInRoom = [ yes ]',\n",
       " '<name> name = [ Ala Moana Hotel ] ; <address> address = [ 410 Atkinson Drive, Honolulu, HI 96814, USA ] ; <feelsHotel> feelsHotel = [ casual ] ; <hasConventionCenter> hasConventionCenter = [ yes ] ; <hasOnsiteCafe> hasOnsiteCafe = [ yes ] ; <hasCoffeeInRooms> hasCoffeeInRooms = [ yes ] ; <hasMinifridgeInRooms> hasMinifridgeInRooms = [ yes ] ; <hasBalconyInRooms> hasBalconyInRooms = [ yes ] ; <hasMicrowaveInRooms> hasMicrowaveInRooms = [ yes ]',\n",
       " '<name> name = [ Belvedere Hotel ] ; <address> address = [ 1900 Boardwalk, Atlantic City, NJ 08401, USA ] ; <hasBarOnsite> hasBarOnsite = [ yes ] ; <hasRestaurant> hasRestaurant = [ yes ] ; <hasMeetingRooms> hasMeetingRooms = [ yes ] ; <hasSpa> hasSpa = [ yes ] ; <hasCasino> hasCasino = [ yes ]']"
      ]
     },
     "execution_count": 20,
     "metadata": {},
     "output_type": "execute_result"
    }
   ],
   "source": [
    "input_data_endpoint"
   ]
  },
  {
   "cell_type": "markdown",
   "metadata": {},
   "source": [
    "Parameters definition to implement a prediction:\n",
    "* max_length (int): The maximum length of the sequence to be generated.\n",
    "* min_length (int): The minimum length of the sequence to be generated\n",
    "* length_penalty (float, optional, defaults to 1.0): Exponential penalty to the length that is used with beam-based generation. It is applied as an exponent to the sequence length, which in turn is used to divide the score of the sequence. Since the score is the log likelihood of the sequence (i.e. negative), length_penalty > 0.0 promotes longer sequences, while length_penalty < 0.0 encourages shorter sequences."
   ]
  },
  {
   "cell_type": "code",
   "execution_count": 21,
   "metadata": {},
   "outputs": [],
   "source": [
    "prediction_parameters = {\n",
    "\t\t\"max_length\": 150,\n",
    "\t\t\"min_length\": 30,\n",
    "\t\t\"length_penalty\": 3.0\n",
    "}"
   ]
  },
  {
   "cell_type": "markdown",
   "metadata": {},
   "source": [
    "<Add code snippet that shows the payload contents>"
   ]
  },
  {
   "cell_type": "markdown",
   "metadata": {},
   "source": [
    "### C. Perform real-time inference"
   ]
  },
  {
   "cell_type": "code",
   "execution_count": 22,
   "metadata": {},
   "outputs": [
    {
     "data": {
      "text/plain": [
       "b'[{\"generated_text\":\"The 1 Hotel South Beach is a luxury hotel. It has a bar and a balcony. It has upgraded rooms and a kitchen.\"},{\"generated_text\":\"The Ala Moana Hotel is a casual hotel that offers a conference center and a coffee maker. It has a balcony and a mini fridge.\"},{\"generated_text\":\"The Belvedere Hotel is a great choice for you. It has a bar, a restaurant, a meeting room, a spa and a casino.\"}]'"
      ]
     },
     "execution_count": 22,
     "metadata": {},
     "output_type": "execute_result"
    }
   ],
   "source": [
    "prediction = predictor.predict({\n",
    "\t'inputs': input_data_endpoint,\n",
    "\t'parameters': prediction_parameters\n",
    "})\n",
    "prediction"
   ]
  },
  {
   "cell_type": "code",
   "execution_count": 23,
   "metadata": {},
   "outputs": [
    {
     "data": {
      "text/plain": [
       "[{'generated_text': 'The 1 Hotel South Beach is a luxury hotel. It has a bar and a balcony. It has upgraded rooms and a kitchen.'},\n",
       " {'generated_text': 'The Ala Moana Hotel is a casual hotel that offers a conference center and a coffee maker. It has a balcony and a mini fridge.'},\n",
       " {'generated_text': 'The Belvedere Hotel is a great choice for you. It has a bar, a restaurant, a meeting room, a spa and a casino.'}]"
      ]
     },
     "execution_count": 23,
     "metadata": {},
     "output_type": "execute_result"
    }
   ],
   "source": [
    "output = json.loads(prediction)\n",
    "output"
   ]
  },
  {
   "cell_type": "code",
   "execution_count": 24,
   "metadata": {},
   "outputs": [],
   "source": [
    "with open('./data/inference/output/real-time/output.txt', 'w') as outfile:\n",
    "    for entry in output:\n",
    "        json.dump(entry, outfile)\n",
    "        outfile.write('\\n')"
   ]
  },
  {
   "cell_type": "markdown",
   "metadata": {},
   "source": [
    "### F. Delete the endpoint"
   ]
  },
  {
   "cell_type": "markdown",
   "metadata": {},
   "source": [
    "Now that you have successfully performed a real-time inference, you do not need the endpoint any more. you can terminate the same to avoid being charged."
   ]
  },
  {
   "cell_type": "code",
   "execution_count": 25,
   "metadata": {},
   "outputs": [],
   "source": [
    "predictor.delete_endpoint(delete_endpoint_config=True)"
   ]
  },
  {
   "cell_type": "markdown",
   "metadata": {},
   "source": [
    "## 6. Perform Batch inference"
   ]
  },
  {
   "cell_type": "markdown",
   "metadata": {},
   "source": [
    "In this section, you will perform batch inference using multiple input payloads together."
   ]
  },
  {
   "cell_type": "code",
   "execution_count": 27,
   "metadata": {},
   "outputs": [],
   "source": [
    "s3 = boto3.resource('s3')\n",
    "bucket = s3.Bucket(bucket)"
   ]
  },
  {
   "cell_type": "code",
   "execution_count": 28,
   "metadata": {},
   "outputs": [
    {
     "name": "stdout",
     "output_type": "stream",
     "text": [
      "Transform input uploaded to s3://sagemaker-us-east-1-544022947556/smart-descriptions/batch/input\n"
     ]
    }
   ],
   "source": [
    "# upload the batch-transform job input files to S3\n",
    "transform_input_folder = \"data/inference/input/batch\" \n",
    "transform_input = sagemaker_session.upload_data(transform_input_folder, key_prefix=model_name + '/batch/input')\n",
    "print(\"Transform input uploaded to \" + transform_input)"
   ]
  },
  {
   "cell_type": "code",
   "execution_count": null,
   "metadata": {
    "scrolled": true
   },
   "outputs": [],
   "source": [
    "# Run the batch-transform job\n",
    "transformer = estimator.transformer(1, batch_transform_inference_instance_type, strategy='SingleRecord', \n",
    "                                    output_path= 's3://{}/{}/batch/output/'.format(bucket.name, model_name),\n",
    "                                   assemble_with='Line')\n",
    "transformer.transform(transform_input, content_type=content_type, split_type='Line')\n",
    "transformer.wait()"
   ]
  },
  {
   "cell_type": "code",
   "execution_count": null,
   "metadata": {},
   "outputs": [],
   "source": [
    "# output is available on following path\n",
    "transformer.output_path"
   ]
  },
  {
   "cell_type": "code",
   "execution_count": 31,
   "metadata": {},
   "outputs": [],
   "source": [
    "# Iterates through all the objects, doing the pagination for you. Each obj\n",
    "# is an ObjectSummary, so it doesn't contain the body. You'll need to call\n",
    "# get to get the whole body.\n",
    "obj = bucket.Object('{}/batch/output/input-batch-job.txt.out'.format(model_name))\n",
    "key = obj.key\n",
    "body = obj.get()['Body'].read()"
   ]
  },
  {
   "cell_type": "code",
   "execution_count": 32,
   "metadata": {},
   "outputs": [
    {
     "data": {
      "text/plain": [
       "b'[{\"generated_text\":\"The 1 Hotel South Beach is a luxury hotel. It has a bar and a balcony. It has upgraded rooms and a kitchen.\"}]\\n[{\"generated_text\":\"The Ala Moana Hotel is a casual hotel that offers a conference center and a coffee maker. It has a balcony and a mini fridge.\"}]\\n[{\"generated_text\":\"Belvedere Hote is a great choice for you. It has a bar, a restaurant, a meeting room, a spa and a casino.\"}]\\n'"
      ]
     },
     "execution_count": 32,
     "metadata": {},
     "output_type": "execute_result"
    }
   ],
   "source": [
    "body"
   ]
  },
  {
   "cell_type": "code",
   "execution_count": 33,
   "metadata": {},
   "outputs": [
    {
     "data": {
      "text/plain": [
       "'[{\"generated_text\":\"The 1 Hotel South Beach is a luxury hotel. It has a bar and a balcony. It has upgraded rooms and a kitchen.\"},{\"generated_text\":\"The Ala Moana Hotel is a casual hotel that offers a conference center and a coffee maker. It has a balcony and a mini fridge.\"},{\"generated_text\":\"Belvedere Hote is a great choice for you. It has a bar, a restaurant, a meeting room, a spa and a casino.\"}]'"
      ]
     },
     "execution_count": 33,
     "metadata": {},
     "output_type": "execute_result"
    }
   ],
   "source": [
    "body = body.decode(\"utf-8\")\n",
    "body = body.replace(']\\n[', ',')\n",
    "body = body.replace(']\\n', ']')\n",
    "body"
   ]
  },
  {
   "cell_type": "code",
   "execution_count": 34,
   "metadata": {},
   "outputs": [
    {
     "data": {
      "text/plain": [
       "[{'generated_text': 'The 1 Hotel South Beach is a luxury hotel. It has a bar and a balcony. It has upgraded rooms and a kitchen.'},\n",
       " {'generated_text': 'The Ala Moana Hotel is a casual hotel that offers a conference center and a coffee maker. It has a balcony and a mini fridge.'},\n",
       " {'generated_text': 'Belvedere Hote is a great choice for you. It has a bar, a restaurant, a meeting room, a spa and a casino.'}]"
      ]
     },
     "execution_count": 34,
     "metadata": {},
     "output_type": "execute_result"
    }
   ],
   "source": [
    "output = json.loads(body)\n",
    "output"
   ]
  },
  {
   "cell_type": "code",
   "execution_count": 35,
   "metadata": {},
   "outputs": [],
   "source": [
    "with open('./data/inference/output/batch/output.txt', 'w') as outfile:\n",
    "    for entry in output:\n",
    "        json.dump(entry, outfile)\n",
    "        outfile.write('\\n')"
   ]
  },
  {
   "cell_type": "markdown",
   "metadata": {},
   "source": [
    "## 7. Clean-up"
   ]
  },
  {
   "cell_type": "markdown",
   "metadata": {},
   "source": [
    "### A. Delete the model"
   ]
  },
  {
   "cell_type": "code",
   "execution_count": 37,
   "metadata": {},
   "outputs": [],
   "source": [
    "transformer.delete_model()"
   ]
  }
 ],
 "metadata": {
  "instance_type": "ml.t3.medium",
  "kernelspec": {
   "display_name": "Python 3",
   "language": "python",
   "name": "python3"
  },
  "language_info": {
   "codemirror_mode": {
    "name": "ipython",
    "version": 3
   },
   "file_extension": ".py",
   "mimetype": "text/x-python",
   "name": "python",
   "nbconvert_exporter": "python",
   "pygments_lexer": "ipython3",
   "version": "3.10.0 (tags/v3.10.0:b494f59, Oct  4 2021, 19:00:18) [MSC v.1929 64 bit (AMD64)]"
  },
  "vscode": {
   "interpreter": {
    "hash": "369f2c481f4da34e4445cda3fffd2e751bd1c4d706f27375911949ba6bb62e1c"
   }
  }
 },
 "nbformat": 4,
 "nbformat_minor": 4
}
